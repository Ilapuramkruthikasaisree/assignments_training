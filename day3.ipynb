{
  "nbformat": 4,
  "nbformat_minor": 0,
  "metadata": {
    "colab": {
      "provenance": [],
      "authorship_tag": "ABX9TyMejXS6MwQwtqpvV8F6VzBe",
      "include_colab_link": true
    },
    "kernelspec": {
      "name": "python3",
      "display_name": "Python 3"
    },
    "language_info": {
      "name": "python"
    }
  },
  "cells": [
    {
      "cell_type": "markdown",
      "metadata": {
        "id": "view-in-github",
        "colab_type": "text"
      },
      "source": [
        "<a href=\"https://colab.research.google.com/github/Ilapuramkruthikasaisree/assignments_training/blob/main/day3.ipynb\" target=\"_parent\"><img src=\"https://colab.research.google.com/assets/colab-badge.svg\" alt=\"Open In Colab\"/></a>"
      ]
    },
    {
      "cell_type": "code",
      "execution_count": 1,
      "metadata": {
        "colab": {
          "base_uri": "https://localhost:8080/"
        },
        "id": "rRtyDNEXB9mL",
        "outputId": "305d1c6e-e9ed-4996-99de-77c63c1cb695"
      },
      "outputs": [
        {
          "output_type": "stream",
          "name": "stdout",
          "text": [
            "Enter first subject marks: 56\n",
            "Enter second subject marks: 63\n",
            "Enter third subject marks: 78\n",
            "Grade: A\n"
          ]
        }
      ],
      "source": [
        "a = int(input(\"Enter first subject marks: \"))\n",
        "b = int(input(\"Enter second subject marks: \"))\n",
        "c = int(input(\"Enter third subject marks: \"))\n",
        "average = a + b + c / 3\n",
        "if average >= 90:\n",
        "    print(\"Grade: A\")\n",
        "elif average >= 80:\n",
        "    print(\"Grade: B\")\n",
        "elif average >= 70:\n",
        "    print(\"Grade: C\")\n",
        "else:\n",
        "    print(\"Grade: Fail\")\n"
      ]
    }
  ]
}