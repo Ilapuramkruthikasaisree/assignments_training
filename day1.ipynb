{
  "nbformat": 4,
  "nbformat_minor": 0,
  "metadata": {
    "colab": {
      "provenance": [],
      "authorship_tag": "ABX9TyNV1/C7YFvLsiz+HwU6wYab",
      "include_colab_link": true
    },
    "kernelspec": {
      "name": "python3",
      "display_name": "Python 3"
    },
    "language_info": {
      "name": "python"
    }
  },
  "cells": [
    {
      "cell_type": "markdown",
      "metadata": {
        "id": "view-in-github",
        "colab_type": "text"
      },
      "source": [
        "<a href=\"https://colab.research.google.com/github/Ilapuramkruthikasaisree/assignments_training/blob/main/day1.ipynb\" target=\"_parent\"><img src=\"https://colab.research.google.com/assets/colab-badge.svg\" alt=\"Open In Colab\"/></a>"
      ]
    },
    {
      "cell_type": "code",
      "execution_count": 1,
      "metadata": {
        "colab": {
          "base_uri": "https://localhost:8080/"
        },
        "id": "f7SgogVA6Zu1",
        "outputId": "ab806a44-689c-4b7e-e07e-d091850c1635"
      },
      "outputs": [
        {
          "output_type": "stream",
          "name": "stdout",
          "text": [
            "23 is of type <class 'int'>\n",
            "36.34 is of type <class 'float'>\n",
            "Kruthika is of type <class 'str'>\n",
            "True is of type <class 'bool'>\n"
          ]
        }
      ],
      "source": [
        "a = 23\n",
        "print(a, 'is of type', type(a))\n",
        "b = 36.34\n",
        "print(b, 'is of type', type(b))\n",
        "c = 'Kruthika'\n",
        "print(c, 'is of type', type(c))\n",
        "d = True\n",
        "print(d, 'is of type', type(d))\n"
      ]
    }
  ]
}