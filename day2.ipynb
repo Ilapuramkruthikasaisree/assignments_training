{
  "nbformat": 4,
  "nbformat_minor": 0,
  "metadata": {
    "colab": {
      "provenance": [],
      "authorship_tag": "ABX9TyOc3OppDJYVn6h3Df5wHSWq",
      "include_colab_link": true
    },
    "kernelspec": {
      "name": "python3",
      "display_name": "Python 3"
    },
    "language_info": {
      "name": "python"
    }
  },
  "cells": [
    {
      "cell_type": "markdown",
      "metadata": {
        "id": "view-in-github",
        "colab_type": "text"
      },
      "source": [
        "<a href=\"https://colab.research.google.com/github/Ilapuramkruthikasaisree/assignments_training/blob/main/day2.ipynb\" target=\"_parent\"><img src=\"https://colab.research.google.com/assets/colab-badge.svg\" alt=\"Open In Colab\"/></a>"
      ]
    },
    {
      "cell_type": "code",
      "execution_count": 1,
      "metadata": {
        "colab": {
          "base_uri": "https://localhost:8080/"
        },
        "id": "XN6P65aEBilx",
        "outputId": "2c8c247d-7067-4773-ee73-913da766ab6a"
      },
      "outputs": [
        {
          "output_type": "stream",
          "name": "stdout",
          "text": [
            "10\n",
            "30\n",
            "50\n",
            "apple\n",
            "grapes\n",
            "1\n",
            "2\n",
            "3\n"
          ]
        }
      ],
      "source": [
        "my_list = [10, 20, 30, 40, 50]\n",
        "print(my_list[0])\n",
        "print(my_list[2])\n",
        "print(my_list[4])\n",
        "my_tuple = (\"apple\", \"banana\", \"grapes\")\n",
        "print(my_tuple[0])\n",
        "print(my_tuple[2])\n",
        "my_dict = {\"a\": 1, \"b\": 2, \"c\": 3}\n",
        "print(my_dict[\"a\"])\n",
        "print(my_dict[\"b\"])\n",
        "print(my_dict[\"c\"])"
      ]
    }
  ]
}