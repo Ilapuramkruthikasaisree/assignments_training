{
 "cells": [
  {
   "cell_type": "code",
   "execution_count": 2,
   "id": "3fd8d1ce-31b1-48ed-82fd-60ced99b737f",
   "metadata": {},
   "outputs": [
    {
     "data": {
      "text/plain": [
       "81"
      ]
     },
     "execution_count": 2,
     "metadata": {},
     "output_type": "execute_result"
    }
   ],
   "source": [
    "a = 35\n",
    "b = 46\n",
    "a +b"
   ]
  },
  {
   "cell_type": "code",
   "execution_count": null,
   "id": "29ef8870-ee34-4490-8528-8a02bfc2866d",
   "metadata": {},
   "outputs": [],
   "source": []
  }
 ],
 "metadata": {
  "kernelspec": {
   "display_name": "Python [conda env:base] *",
   "language": "python",
   "name": "conda-base-py"
  },
  "language_info": {
   "codemirror_mode": {
    "name": "ipython",
    "version": 3
   },
   "file_extension": ".py",
   "mimetype": "text/x-python",
   "name": "python",
   "nbconvert_exporter": "python",
   "pygments_lexer": "ipython3",
   "version": "3.12.7"
  }
 },
 "nbformat": 4,
 "nbformat_minor": 5
}
